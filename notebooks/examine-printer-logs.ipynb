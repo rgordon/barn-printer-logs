{
 "cells": [
  {
   "cell_type": "markdown",
   "metadata": {},
   "source": [
    "# Evaluate Printer Log Usage\n",
    "This notebook is just an automated way to report on 3D printer usage. It expects the latest data file to be downloaded locally, whatever the source."
   ]
  },
  {
   "cell_type": "markdown",
   "metadata": {},
   "source": [
    "## Check Environment\n",
    "I usually run these kind of notebooks in isolated virtual environments, This next bit of code check to make sure that the Python kernel is in the location associated with that virtual environment (only you can tell.) and the Python version."
   ]
  },
  {
   "cell_type": "code",
   "execution_count": 38,
   "metadata": {},
   "outputs": [
    {
     "name": "stdout",
     "output_type": "stream",
     "text": [
      "cwd:/Users/rgordon/projects/barn-repos/barn-printer-logs/notebooks\n",
      "exe:/Users/rgordon/projects/barn-repos/pyvenv/bin/python3\n",
      "ver:3.7.3 (default, Dec 13 2019, 19:58:14) \n",
      "[Clang 11.0.0 (clang-1100.0.33.17)]\n"
     ]
    }
   ],
   "source": [
    "import sys, os\n",
    "print(\"cwd:{}\".format(os.getcwd()))\n",
    "print(\"exe:{}\".format(sys.executable))\n",
    "print(\"ver:{}\".format(sys.version))"
   ]
  },
  {
   "cell_type": "markdown",
   "metadata": {},
   "source": [
    "## Standard Imports\n",
    "I'll put all of the libraries/packages that we use in the notebook in this section, so you determine quickly whether there's anything missing."
   ]
  },
  {
   "cell_type": "code",
   "execution_count": 39,
   "metadata": {},
   "outputs": [],
   "source": [
    "%matplotlib inline\n",
    "\n",
    "import numpy as np\n",
    "import pandas as pd\n",
    "import matplotlib as mpl\n",
    "import matplotlib.pyplot as plt\n",
    "import matplotlib.dates as mdates\n",
    "#from matplotlib.ticker import MaxNLocator\n",
    "import seaborn as sns\n",
    "\n",
    "# let seaborn overwrite standard plt\n",
    "sns.set()"
   ]
  },
  {
   "cell_type": "markdown",
   "metadata": {},
   "source": [
    "## Load and Prep the Data\n",
    "Npw we need to load and prepare the data for downstream usage. We'll check it here and apply what's needed. I'd expect this area to evolve as data grows in complexity or requirements."
   ]
  },
  {
   "cell_type": "code",
   "execution_count": 40,
   "metadata": {},
   "outputs": [
    {
     "name": "stdout",
     "output_type": "stream",
     "text": [
      "['printer-logs.tsv']\n"
     ]
    }
   ],
   "source": [
    "DATA_DIR = os.path.join(\"..\",\"data\")\n",
    "files = [f for f in os.listdir(DATA_DIR) if f.lower().endswith(\".tsv\")]\n",
    "print(files)"
   ]
  },
  {
   "cell_type": "code",
   "execution_count": 41,
   "metadata": {},
   "outputs": [],
   "source": [
    "df_raw = pd.read_csv(os.path.join(DATA_DIR, files[0]), sep='\\t')"
   ]
  },
  {
   "cell_type": "code",
   "execution_count": 42,
   "metadata": {},
   "outputs": [
    {
     "name": "stdout",
     "output_type": "stream",
     "text": [
      "Shape of loaded data is (29, 18)\n",
      "Index(['date', 'name', 'filament', 'days', 'hours ', 'mins', 'z offset',\n",
      "       'self test passed', 'belt x', 'belt y', 'Power fail', 'Filament runout',\n",
      "       'crash x', 'crash y', 'MMU Fails ', 'MMU load fails',\n",
      "       'usage hrs (calc) ', 'notes'],\n",
      "      dtype='object')\n",
      "RangeIndex(start=0, stop=29, step=1)\n"
     ]
    },
    {
     "data": {
      "text/html": [
       "<div>\n",
       "<style scoped>\n",
       "    .dataframe tbody tr th:only-of-type {\n",
       "        vertical-align: middle;\n",
       "    }\n",
       "\n",
       "    .dataframe tbody tr th {\n",
       "        vertical-align: top;\n",
       "    }\n",
       "\n",
       "    .dataframe thead th {\n",
       "        text-align: right;\n",
       "    }\n",
       "</style>\n",
       "<table border=\"1\" class=\"dataframe\">\n",
       "  <thead>\n",
       "    <tr style=\"text-align: right;\">\n",
       "      <th></th>\n",
       "      <th>date</th>\n",
       "      <th>name</th>\n",
       "      <th>filament</th>\n",
       "      <th>days</th>\n",
       "      <th>hours</th>\n",
       "      <th>mins</th>\n",
       "      <th>z offset</th>\n",
       "      <th>self test passed</th>\n",
       "      <th>belt x</th>\n",
       "      <th>belt y</th>\n",
       "      <th>Power fail</th>\n",
       "      <th>Filament runout</th>\n",
       "      <th>crash x</th>\n",
       "      <th>crash y</th>\n",
       "      <th>MMU Fails</th>\n",
       "      <th>MMU load fails</th>\n",
       "      <th>usage hrs (calc)</th>\n",
       "      <th>notes</th>\n",
       "    </tr>\n",
       "  </thead>\n",
       "  <tbody>\n",
       "    <tr>\n",
       "      <th>0</th>\n",
       "      <td>2019-10-24</td>\n",
       "      <td>Prusa 01</td>\n",
       "      <td>5118.88</td>\n",
       "      <td>327</td>\n",
       "      <td>13</td>\n",
       "      <td>50</td>\n",
       "      <td>NaN</td>\n",
       "      <td>y</td>\n",
       "      <td>NaN</td>\n",
       "      <td>NaN</td>\n",
       "      <td>NaN</td>\n",
       "      <td>NaN</td>\n",
       "      <td>NaN</td>\n",
       "      <td>NaN</td>\n",
       "      <td>NaN</td>\n",
       "      <td>NaN</td>\n",
       "      <td>7861.8</td>\n",
       "      <td>NaN</td>\n",
       "    </tr>\n",
       "    <tr>\n",
       "      <th>1</th>\n",
       "      <td>2019-10-24</td>\n",
       "      <td>Prusa 02</td>\n",
       "      <td>5855.92</td>\n",
       "      <td>243</td>\n",
       "      <td>2</td>\n",
       "      <td>52</td>\n",
       "      <td>NaN</td>\n",
       "      <td>y</td>\n",
       "      <td>NaN</td>\n",
       "      <td>NaN</td>\n",
       "      <td>NaN</td>\n",
       "      <td>NaN</td>\n",
       "      <td>NaN</td>\n",
       "      <td>NaN</td>\n",
       "      <td>NaN</td>\n",
       "      <td>NaN</td>\n",
       "      <td>5834.9</td>\n",
       "      <td>NaN</td>\n",
       "    </tr>\n",
       "    <tr>\n",
       "      <th>2</th>\n",
       "      <td>2019-10-24</td>\n",
       "      <td>Prusa 03</td>\n",
       "      <td>3490.80</td>\n",
       "      <td>350</td>\n",
       "      <td>0</td>\n",
       "      <td>58</td>\n",
       "      <td>NaN</td>\n",
       "      <td>y</td>\n",
       "      <td>NaN</td>\n",
       "      <td>NaN</td>\n",
       "      <td>NaN</td>\n",
       "      <td>NaN</td>\n",
       "      <td>NaN</td>\n",
       "      <td>NaN</td>\n",
       "      <td>NaN</td>\n",
       "      <td>NaN</td>\n",
       "      <td>8401.0</td>\n",
       "      <td>NaN</td>\n",
       "    </tr>\n",
       "    <tr>\n",
       "      <th>3</th>\n",
       "      <td>2019-10-24</td>\n",
       "      <td>Prusa 05</td>\n",
       "      <td>1147.71</td>\n",
       "      <td>41</td>\n",
       "      <td>15</td>\n",
       "      <td>17</td>\n",
       "      <td>NaN</td>\n",
       "      <td>y</td>\n",
       "      <td>NaN</td>\n",
       "      <td>NaN</td>\n",
       "      <td>NaN</td>\n",
       "      <td>NaN</td>\n",
       "      <td>NaN</td>\n",
       "      <td>NaN</td>\n",
       "      <td>NaN</td>\n",
       "      <td>NaN</td>\n",
       "      <td>999.3</td>\n",
       "      <td>NaN</td>\n",
       "    </tr>\n",
       "    <tr>\n",
       "      <th>4</th>\n",
       "      <td>2019-11-07</td>\n",
       "      <td>Prusa 01</td>\n",
       "      <td>5122.33</td>\n",
       "      <td>327</td>\n",
       "      <td>21</td>\n",
       "      <td>6</td>\n",
       "      <td>-0.99</td>\n",
       "      <td>NaN</td>\n",
       "      <td>NaN</td>\n",
       "      <td>NaN</td>\n",
       "      <td>NaN</td>\n",
       "      <td>NaN</td>\n",
       "      <td>NaN</td>\n",
       "      <td>NaN</td>\n",
       "      <td>NaN</td>\n",
       "      <td>NaN</td>\n",
       "      <td>7869.1</td>\n",
       "      <td>NaN</td>\n",
       "    </tr>\n",
       "  </tbody>\n",
       "</table>\n",
       "</div>"
      ],
      "text/plain": [
       "         date      name  filament  days  hours  mins  z offset  \\\n",
       "0  2019-10-24  Prusa 01   5118.88   327     13    50       NaN   \n",
       "1  2019-10-24  Prusa 02   5855.92   243      2    52       NaN   \n",
       "2  2019-10-24  Prusa 03   3490.80   350      0    58       NaN   \n",
       "3  2019-10-24  Prusa 05   1147.71    41     15    17       NaN   \n",
       "4  2019-11-07  Prusa 01   5122.33   327     21     6     -0.99   \n",
       "\n",
       "  self test passed  belt x  belt y  Power fail  Filament runout  crash x  \\\n",
       "0                y     NaN     NaN         NaN              NaN      NaN   \n",
       "1                y     NaN     NaN         NaN              NaN      NaN   \n",
       "2                y     NaN     NaN         NaN              NaN      NaN   \n",
       "3                y     NaN     NaN         NaN              NaN      NaN   \n",
       "4              NaN     NaN     NaN         NaN              NaN      NaN   \n",
       "\n",
       "   crash y  MMU Fails  MMU load fails  usage hrs (calc) notes  \n",
       "0      NaN        NaN             NaN            7861.8   NaN  \n",
       "1      NaN        NaN             NaN            5834.9   NaN  \n",
       "2      NaN        NaN             NaN            8401.0   NaN  \n",
       "3      NaN        NaN             NaN             999.3   NaN  \n",
       "4      NaN        NaN             NaN            7869.1   NaN  "
      ]
     },
     "execution_count": 42,
     "metadata": {},
     "output_type": "execute_result"
    }
   ],
   "source": [
    "print(\"Shape of loaded data is {}\".format(df_raw.shape))\n",
    "print(df_raw.columns)\n",
    "print(df_raw.index)\n",
    "# columns can have whitespace around them - kill it\n",
    "df_raw.columns = df_raw.columns.str.strip()\n",
    "df_raw.head()"
   ]
  },
  {
   "cell_type": "markdown",
   "metadata": {},
   "source": [
    "We will not need all of these columns at present, so let's extract the ones we do need as a separate copy that we can manipulate as needed. Let's recreate the duration value in hours to be sure its correct."
   ]
  },
  {
   "cell_type": "code",
   "execution_count": 43,
   "metadata": {},
   "outputs": [
    {
     "data": {
      "text/html": [
       "<div>\n",
       "<style scoped>\n",
       "    .dataframe tbody tr th:only-of-type {\n",
       "        vertical-align: middle;\n",
       "    }\n",
       "\n",
       "    .dataframe tbody tr th {\n",
       "        vertical-align: top;\n",
       "    }\n",
       "\n",
       "    .dataframe thead th {\n",
       "        text-align: right;\n",
       "    }\n",
       "</style>\n",
       "<table border=\"1\" class=\"dataframe\">\n",
       "  <thead>\n",
       "    <tr style=\"text-align: right;\">\n",
       "      <th></th>\n",
       "      <th>date</th>\n",
       "      <th>name</th>\n",
       "      <th>filament</th>\n",
       "      <th>days</th>\n",
       "      <th>hours</th>\n",
       "      <th>mins</th>\n",
       "      <th>usage_hrs</th>\n",
       "    </tr>\n",
       "  </thead>\n",
       "  <tbody>\n",
       "    <tr>\n",
       "      <th>0</th>\n",
       "      <td>2019-10-24</td>\n",
       "      <td>Prusa 01</td>\n",
       "      <td>5118.88</td>\n",
       "      <td>327</td>\n",
       "      <td>13</td>\n",
       "      <td>50</td>\n",
       "      <td>7861.8</td>\n",
       "    </tr>\n",
       "    <tr>\n",
       "      <th>1</th>\n",
       "      <td>2019-10-24</td>\n",
       "      <td>Prusa 02</td>\n",
       "      <td>5855.92</td>\n",
       "      <td>243</td>\n",
       "      <td>2</td>\n",
       "      <td>52</td>\n",
       "      <td>5834.9</td>\n",
       "    </tr>\n",
       "    <tr>\n",
       "      <th>2</th>\n",
       "      <td>2019-10-24</td>\n",
       "      <td>Prusa 03</td>\n",
       "      <td>3490.80</td>\n",
       "      <td>350</td>\n",
       "      <td>0</td>\n",
       "      <td>58</td>\n",
       "      <td>8401.0</td>\n",
       "    </tr>\n",
       "    <tr>\n",
       "      <th>3</th>\n",
       "      <td>2019-10-24</td>\n",
       "      <td>Prusa 05</td>\n",
       "      <td>1147.71</td>\n",
       "      <td>41</td>\n",
       "      <td>15</td>\n",
       "      <td>17</td>\n",
       "      <td>999.3</td>\n",
       "    </tr>\n",
       "    <tr>\n",
       "      <th>4</th>\n",
       "      <td>2019-11-07</td>\n",
       "      <td>Prusa 01</td>\n",
       "      <td>5122.33</td>\n",
       "      <td>327</td>\n",
       "      <td>21</td>\n",
       "      <td>6</td>\n",
       "      <td>7869.1</td>\n",
       "    </tr>\n",
       "  </tbody>\n",
       "</table>\n",
       "</div>"
      ],
      "text/plain": [
       "         date      name  filament  days  hours  mins  usage_hrs\n",
       "0  2019-10-24  Prusa 01   5118.88   327     13    50     7861.8\n",
       "1  2019-10-24  Prusa 02   5855.92   243      2    52     5834.9\n",
       "2  2019-10-24  Prusa 03   3490.80   350      0    58     8401.0\n",
       "3  2019-10-24  Prusa 05   1147.71    41     15    17      999.3\n",
       "4  2019-11-07  Prusa 01   5122.33   327     21     6     7869.1"
      ]
     },
     "execution_count": 43,
     "metadata": {},
     "output_type": "execute_result"
    }
   ],
   "source": [
    "df_printers = df_raw[['date','name','filament','days','hours','mins']].copy()\n",
    "# one way to do this by using dataframe-specific operations, pretty straight-forward\n",
    "df_printers['usage_hrs'] =  round(\n",
    "    (df_printers['days'] * 24) + (df_printers['hours']) + (df_printers['mins'] / 60),1)\n",
    "\"\"\"\n",
    "# another way is to apply a function across all rows, generating a list which makes a new column\n",
    "# it's probalby more 'Pythonic' but is certainly less clear. this also demonstrated how properly-defined\n",
    "# index names can be used directly as with a dictionary.\n",
    "df_printers['test'] = df_printers.apply(\n",
    "        lambda row: round((row.days * 24) + (row.hours) + (row.mins/60),1), axis = 1) \n",
    "\"\"\"\n",
    "df_printers.head()"
   ]
  },
  {
   "cell_type": "markdown",
   "metadata": {},
   "source": [
    "If any of the rows have no values in the columns we care about, we can detect and filter them out. We could inspect and determine whether there are specific columns to check or we can just filter them all out."
   ]
  },
  {
   "cell_type": "code",
   "execution_count": 44,
   "metadata": {},
   "outputs": [
    {
     "name": "stdout",
     "output_type": "stream",
     "text": [
      "Empty DataFrame\n",
      "Columns: [date, name, filament, days, hours, mins, usage_hrs]\n",
      "Index: []\n",
      "Empty DataFrame\n",
      "Columns: [date, name, filament, days, hours, mins, usage_hrs]\n",
      "Index: []\n"
     ]
    }
   ],
   "source": [
    "print(df_printers[df_printers['filament'].isnull()])\n",
    "print(df_printers[df_printers['usage_hrs'].isnull()])"
   ]
  },
  {
   "cell_type": "code",
   "execution_count": 45,
   "metadata": {},
   "outputs": [
    {
     "data": {
      "text/html": [
       "<div>\n",
       "<style scoped>\n",
       "    .dataframe tbody tr th:only-of-type {\n",
       "        vertical-align: middle;\n",
       "    }\n",
       "\n",
       "    .dataframe tbody tr th {\n",
       "        vertical-align: top;\n",
       "    }\n",
       "\n",
       "    .dataframe thead th {\n",
       "        text-align: right;\n",
       "    }\n",
       "</style>\n",
       "<table border=\"1\" class=\"dataframe\">\n",
       "  <thead>\n",
       "    <tr style=\"text-align: right;\">\n",
       "      <th></th>\n",
       "      <th>date</th>\n",
       "      <th>name</th>\n",
       "      <th>filament</th>\n",
       "      <th>days</th>\n",
       "      <th>hours</th>\n",
       "      <th>mins</th>\n",
       "      <th>usage_hrs</th>\n",
       "    </tr>\n",
       "  </thead>\n",
       "  <tbody>\n",
       "    <tr>\n",
       "      <th>0</th>\n",
       "      <td>2019-10-24</td>\n",
       "      <td>Prusa 01</td>\n",
       "      <td>5118.88</td>\n",
       "      <td>327</td>\n",
       "      <td>13</td>\n",
       "      <td>50</td>\n",
       "      <td>7861.8</td>\n",
       "    </tr>\n",
       "    <tr>\n",
       "      <th>1</th>\n",
       "      <td>2019-10-24</td>\n",
       "      <td>Prusa 02</td>\n",
       "      <td>5855.92</td>\n",
       "      <td>243</td>\n",
       "      <td>2</td>\n",
       "      <td>52</td>\n",
       "      <td>5834.9</td>\n",
       "    </tr>\n",
       "    <tr>\n",
       "      <th>2</th>\n",
       "      <td>2019-10-24</td>\n",
       "      <td>Prusa 03</td>\n",
       "      <td>3490.80</td>\n",
       "      <td>350</td>\n",
       "      <td>0</td>\n",
       "      <td>58</td>\n",
       "      <td>8401.0</td>\n",
       "    </tr>\n",
       "    <tr>\n",
       "      <th>3</th>\n",
       "      <td>2019-10-24</td>\n",
       "      <td>Prusa 05</td>\n",
       "      <td>1147.71</td>\n",
       "      <td>41</td>\n",
       "      <td>15</td>\n",
       "      <td>17</td>\n",
       "      <td>999.3</td>\n",
       "    </tr>\n",
       "    <tr>\n",
       "      <th>4</th>\n",
       "      <td>2019-11-07</td>\n",
       "      <td>Prusa 01</td>\n",
       "      <td>5122.33</td>\n",
       "      <td>327</td>\n",
       "      <td>21</td>\n",
       "      <td>6</td>\n",
       "      <td>7869.1</td>\n",
       "    </tr>\n",
       "  </tbody>\n",
       "</table>\n",
       "</div>"
      ],
      "text/plain": [
       "         date      name  filament  days  hours  mins  usage_hrs\n",
       "0  2019-10-24  Prusa 01   5118.88   327     13    50     7861.8\n",
       "1  2019-10-24  Prusa 02   5855.92   243      2    52     5834.9\n",
       "2  2019-10-24  Prusa 03   3490.80   350      0    58     8401.0\n",
       "3  2019-10-24  Prusa 05   1147.71    41     15    17      999.3\n",
       "4  2019-11-07  Prusa 01   5122.33   327     21     6     7869.1"
      ]
     },
     "execution_count": 45,
     "metadata": {},
     "output_type": "execute_result"
    }
   ],
   "source": [
    "# we can either drop just the subset of nulls or we can drop any of them where there is a null column value\n",
    "#df_printers = df_printers.dropna(subset=['filament','usage_hrs'])\n",
    "df_printers = df_printers.dropna()\n",
    "df_printers.head()"
   ]
  },
  {
   "cell_type": "markdown",
   "metadata": {},
   "source": [
    "Finally, let's canonicalize names, and make sure dates are actually Date objects."
   ]
  },
  {
   "cell_type": "code",
   "execution_count": 46,
   "metadata": {},
   "outputs": [
    {
     "data": {
      "text/html": [
       "<div>\n",
       "<style scoped>\n",
       "    .dataframe tbody tr th:only-of-type {\n",
       "        vertical-align: middle;\n",
       "    }\n",
       "\n",
       "    .dataframe tbody tr th {\n",
       "        vertical-align: top;\n",
       "    }\n",
       "\n",
       "    .dataframe thead th {\n",
       "        text-align: right;\n",
       "    }\n",
       "</style>\n",
       "<table border=\"1\" class=\"dataframe\">\n",
       "  <thead>\n",
       "    <tr style=\"text-align: right;\">\n",
       "      <th></th>\n",
       "      <th>date</th>\n",
       "      <th>name</th>\n",
       "      <th>filament</th>\n",
       "      <th>days</th>\n",
       "      <th>hours</th>\n",
       "      <th>mins</th>\n",
       "      <th>usage_hrs</th>\n",
       "    </tr>\n",
       "  </thead>\n",
       "  <tbody>\n",
       "    <tr>\n",
       "      <th>0</th>\n",
       "      <td>2019-10-24</td>\n",
       "      <td>Prusa 01</td>\n",
       "      <td>5118.88</td>\n",
       "      <td>327</td>\n",
       "      <td>13</td>\n",
       "      <td>50</td>\n",
       "      <td>7861.8</td>\n",
       "    </tr>\n",
       "    <tr>\n",
       "      <th>1</th>\n",
       "      <td>2019-10-24</td>\n",
       "      <td>Prusa 02</td>\n",
       "      <td>5855.92</td>\n",
       "      <td>243</td>\n",
       "      <td>2</td>\n",
       "      <td>52</td>\n",
       "      <td>5834.9</td>\n",
       "    </tr>\n",
       "    <tr>\n",
       "      <th>2</th>\n",
       "      <td>2019-10-24</td>\n",
       "      <td>Prusa 03</td>\n",
       "      <td>3490.80</td>\n",
       "      <td>350</td>\n",
       "      <td>0</td>\n",
       "      <td>58</td>\n",
       "      <td>8401.0</td>\n",
       "    </tr>\n",
       "    <tr>\n",
       "      <th>3</th>\n",
       "      <td>2019-10-24</td>\n",
       "      <td>Prusa 05</td>\n",
       "      <td>1147.71</td>\n",
       "      <td>41</td>\n",
       "      <td>15</td>\n",
       "      <td>17</td>\n",
       "      <td>999.3</td>\n",
       "    </tr>\n",
       "    <tr>\n",
       "      <th>4</th>\n",
       "      <td>2019-11-07</td>\n",
       "      <td>Prusa 01</td>\n",
       "      <td>5122.33</td>\n",
       "      <td>327</td>\n",
       "      <td>21</td>\n",
       "      <td>6</td>\n",
       "      <td>7869.1</td>\n",
       "    </tr>\n",
       "  </tbody>\n",
       "</table>\n",
       "</div>"
      ],
      "text/plain": [
       "         date      name  filament  days  hours  mins  usage_hrs\n",
       "0  2019-10-24  Prusa 01   5118.88   327     13    50     7861.8\n",
       "1  2019-10-24  Prusa 02   5855.92   243      2    52     5834.9\n",
       "2  2019-10-24  Prusa 03   3490.80   350      0    58     8401.0\n",
       "3  2019-10-24  Prusa 05   1147.71    41     15    17      999.3\n",
       "4  2019-11-07  Prusa 01   5122.33   327     21     6     7869.1"
      ]
     },
     "execution_count": 46,
     "metadata": {},
     "output_type": "execute_result"
    }
   ],
   "source": [
    "# dates are easy enough\n",
    "df_printers['date'] = pd.to_datetime(df_printers['date'], format='%Y-%m-%d').dt.date\n",
    "\n",
    "#printer names - let's just make them consistent for now\n",
    "df_printers['name'] = pd.Series(df_printers['name']).str.capitalize()\n",
    "\n",
    "df_printers.head()"
   ]
  },
  {
   "cell_type": "code",
   "execution_count": 47,
   "metadata": {},
   "outputs": [
    {
     "data": {
      "text/html": [
       "<div>\n",
       "<style scoped>\n",
       "    .dataframe tbody tr th:only-of-type {\n",
       "        vertical-align: middle;\n",
       "    }\n",
       "\n",
       "    .dataframe tbody tr th {\n",
       "        vertical-align: top;\n",
       "    }\n",
       "\n",
       "    .dataframe thead th {\n",
       "        text-align: right;\n",
       "    }\n",
       "</style>\n",
       "<table border=\"1\" class=\"dataframe\">\n",
       "  <thead>\n",
       "    <tr style=\"text-align: right;\">\n",
       "      <th></th>\n",
       "      <th>filament</th>\n",
       "      <th>days</th>\n",
       "      <th>hours</th>\n",
       "      <th>mins</th>\n",
       "      <th>usage_hrs</th>\n",
       "    </tr>\n",
       "  </thead>\n",
       "  <tbody>\n",
       "    <tr>\n",
       "      <th>count</th>\n",
       "      <td>29.00</td>\n",
       "      <td>29.0</td>\n",
       "      <td>29.0</td>\n",
       "      <td>29.0</td>\n",
       "      <td>29.0</td>\n",
       "    </tr>\n",
       "    <tr>\n",
       "      <th>min</th>\n",
       "      <td>1147.71</td>\n",
       "      <td>41.0</td>\n",
       "      <td>0.0</td>\n",
       "      <td>6.0</td>\n",
       "      <td>999.3</td>\n",
       "    </tr>\n",
       "    <tr>\n",
       "      <th>max</th>\n",
       "      <td>6262.44</td>\n",
       "      <td>368.0</td>\n",
       "      <td>23.0</td>\n",
       "      <td>58.0</td>\n",
       "      <td>8849.6</td>\n",
       "    </tr>\n",
       "  </tbody>\n",
       "</table>\n",
       "</div>"
      ],
      "text/plain": [
       "       filament   days  hours  mins  usage_hrs\n",
       "count     29.00   29.0   29.0  29.0       29.0\n",
       "min     1147.71   41.0    0.0   6.0      999.3\n",
       "max     6262.44  368.0   23.0  58.0     8849.6"
      ]
     },
     "execution_count": 47,
     "metadata": {},
     "output_type": "execute_result"
    }
   ],
   "source": [
    "df_printers.describe().loc[['count','min','max']]"
   ]
  },
  {
   "cell_type": "markdown",
   "metadata": {},
   "source": [
    "## Reporting\n",
    "We do not have a lot of data to work with here, but we do date, printer name, and usage, so that's what we can summarize.\n",
    "Specifically we want to calculate:\n",
    "* overall usage in terms of filament and time\n",
    "* individual printer usage in terms of filament and time"
   ]
  },
  {
   "cell_type": "code",
   "execution_count": 48,
   "metadata": {},
   "outputs": [
    {
     "name": "stdout",
     "output_type": "stream",
     "text": [
      "            filament  usage_hrs\n",
      "date                           \n",
      "2019-10-24  15613.31    23097.0\n",
      "2019-11-07  18140.76    28158.7\n",
      "2019-11-14  18197.64    28195.7\n",
      "2019-12-14  18516.32    29742.0\n",
      "2020-01-04  19040.61    29986.4\n",
      "2020-02-27  21239.16    33439.4\n",
      "\n",
      "\n",
      "Filament used to date: 21239.2\n",
      "Hours used to date:33439.4\n"
     ]
    }
   ],
   "source": [
    "# these are cumulative sums, so after aggregating by date, we need the max to report usage\n",
    "df_by_date = df_printers.groupby(['date'])[['filament','usage_hrs']].sum()\n",
    "print(df_by_date)\n",
    "print(\"\\n\")\n",
    "print(\"Filament used to date: {}\".format(round(df_by_date['filament'].max(),1)))\n",
    "print(\"Hours used to date:{}\".format(round(df_by_date['usage_hrs'].max(),1)))"
   ]
  },
  {
   "cell_type": "code",
   "execution_count": 49,
   "metadata": {},
   "outputs": [
    {
     "data": {
      "text/html": [
       "<div>\n",
       "<style scoped>\n",
       "    .dataframe tbody tr th:only-of-type {\n",
       "        vertical-align: middle;\n",
       "    }\n",
       "\n",
       "    .dataframe tbody tr th {\n",
       "        vertical-align: top;\n",
       "    }\n",
       "\n",
       "    .dataframe thead th {\n",
       "        text-align: right;\n",
       "    }\n",
       "</style>\n",
       "<table border=\"1\" class=\"dataframe\">\n",
       "  <thead>\n",
       "    <tr style=\"text-align: right;\">\n",
       "      <th></th>\n",
       "      <th>filament</th>\n",
       "      <th>usage_hrs</th>\n",
       "    </tr>\n",
       "    <tr>\n",
       "      <th>name</th>\n",
       "      <th></th>\n",
       "      <th></th>\n",
       "    </tr>\n",
       "  </thead>\n",
       "  <tbody>\n",
       "    <tr>\n",
       "      <th>Prusa 01</th>\n",
       "      <td>5832.59</td>\n",
       "      <td>8265.6</td>\n",
       "    </tr>\n",
       "    <tr>\n",
       "      <th>Prusa 02</th>\n",
       "      <td>6262.44</td>\n",
       "      <td>6181.2</td>\n",
       "    </tr>\n",
       "    <tr>\n",
       "      <th>Prusa 03</th>\n",
       "      <td>3973.96</td>\n",
       "      <td>8849.6</td>\n",
       "    </tr>\n",
       "    <tr>\n",
       "      <th>Prusa 04</th>\n",
       "      <td>2619.40</td>\n",
       "      <td>6422.6</td>\n",
       "    </tr>\n",
       "    <tr>\n",
       "      <th>Prusa 05</th>\n",
       "      <td>2550.77</td>\n",
       "      <td>7616.8</td>\n",
       "    </tr>\n",
       "  </tbody>\n",
       "</table>\n",
       "</div>"
      ],
      "text/plain": [
       "          filament  usage_hrs\n",
       "name                         \n",
       "Prusa 01   5832.59     8265.6\n",
       "Prusa 02   6262.44     6181.2\n",
       "Prusa 03   3973.96     8849.6\n",
       "Prusa 04   2619.40     6422.6\n",
       "Prusa 05   2550.77     7616.8"
      ]
     },
     "execution_count": 49,
     "metadata": {},
     "output_type": "execute_result"
    }
   ],
   "source": [
    "# again, these are cumulative values, so to report by printer we can only take max values\n",
    "df_by_name = df_printers.groupby(['name'])[['filament','usage_hrs']].max()\n",
    "df_by_name"
   ]
  },
  {
   "cell_type": "code",
   "execution_count": 50,
   "metadata": {},
   "outputs": [
    {
     "data": {
      "image/png": "[encoded data removed]",
      "text/plain": [
       "<Figure size 432x288 with 2 Axes>"
      ]
     },
     "metadata": {},
     "output_type": "display_data"
    }
   ],
   "source": [
    "#fig, ax = plt.subplots(figsize=(15,7))\n",
    "#ax.xaxis_date()\n",
    "#ax.xaxis.set_major_formatter(mdates.DateFormatter('%Y-%m-%d'))\n",
    "axes = df_by_date.plot.bar(subplots=True,rot=90)\n",
    "axes[0].legend(loc=2)\n",
    "axes[1].legend(loc=2)\n",
    "plt.show()"
   ]
  },
  {
   "cell_type": "code",
   "execution_count": 51,
   "metadata": {},
   "outputs": [
    {
     "data": {
      "image/png": "[encoded data removed]",
      "text/plain": [
       "<Figure size 432x288 with 2 Axes>"
      ]
     },
     "metadata": {},
     "output_type": "display_data"
    }
   ],
   "source": [
    "df_by_name.plot.bar(subplots=True,rot=0)\n",
    "plt.show()"
   ]
  },
  {
   "cell_type": "code",
   "execution_count": 52,
   "metadata": {},
   "outputs": [
    {
     "data": {
      "text/html": [
       "<div>\n",
       "<style scoped>\n",
       "    .dataframe tbody tr th:only-of-type {\n",
       "        vertical-align: middle;\n",
       "    }\n",
       "\n",
       "    .dataframe tbody tr th {\n",
       "        vertical-align: top;\n",
       "    }\n",
       "\n",
       "    .dataframe thead th {\n",
       "        text-align: right;\n",
       "    }\n",
       "</style>\n",
       "<table border=\"1\" class=\"dataframe\">\n",
       "  <thead>\n",
       "    <tr style=\"text-align: right;\">\n",
       "      <th></th>\n",
       "      <th>filament</th>\n",
       "      <th>usage_hrs</th>\n",
       "    </tr>\n",
       "    <tr>\n",
       "      <th>date</th>\n",
       "      <th></th>\n",
       "      <th></th>\n",
       "    </tr>\n",
       "  </thead>\n",
       "  <tbody>\n",
       "    <tr>\n",
       "      <th>2019-10-24</th>\n",
       "      <td>NaN</td>\n",
       "      <td>NaN</td>\n",
       "    </tr>\n",
       "    <tr>\n",
       "      <th>2019-11-07</th>\n",
       "      <td>2527.45</td>\n",
       "      <td>5061.7</td>\n",
       "    </tr>\n",
       "    <tr>\n",
       "      <th>2019-11-14</th>\n",
       "      <td>56.88</td>\n",
       "      <td>37.0</td>\n",
       "    </tr>\n",
       "    <tr>\n",
       "      <th>2019-12-14</th>\n",
       "      <td>318.68</td>\n",
       "      <td>1546.3</td>\n",
       "    </tr>\n",
       "    <tr>\n",
       "      <th>2020-01-04</th>\n",
       "      <td>524.29</td>\n",
       "      <td>244.4</td>\n",
       "    </tr>\n",
       "    <tr>\n",
       "      <th>2020-02-27</th>\n",
       "      <td>2198.55</td>\n",
       "      <td>3453.0</td>\n",
       "    </tr>\n",
       "  </tbody>\n",
       "</table>\n",
       "</div>"
      ],
      "text/plain": [
       "            filament  usage_hrs\n",
       "date                           \n",
       "2019-10-24       NaN        NaN\n",
       "2019-11-07   2527.45     5061.7\n",
       "2019-11-14     56.88       37.0\n",
       "2019-12-14    318.68     1546.3\n",
       "2020-01-04    524.29      244.4\n",
       "2020-02-27   2198.55     3453.0"
      ]
     },
     "execution_count": 52,
     "metadata": {},
     "output_type": "execute_result"
    }
   ],
   "source": [
    "df_date_diff = df_by_date.diff()\n",
    "df_date_diff"
   ]
  },
  {
   "cell_type": "code",
   "execution_count": 53,
   "metadata": {},
   "outputs": [
    {
     "data": {
      "image/png": "[encoded data removed]",
      "text/plain": [
       "<Figure size 432x288 with 2 Axes>"
      ]
     },
     "metadata": {},
     "output_type": "display_data"
    }
   ],
   "source": [
    "# eventually we'll be able to plot the month-by-month difference \n",
    "# but for now there's barely enough data to make it worthwile\n",
    "# note: row 0 eliminated since it's NaN, ad row 1 because its the first value\n",
    "# only rows after that have meaningful delta values\n",
    "axes = df_date_diff[2:].plot.bar(subplots=True,rot=90)\n",
    "axes[0].legend(loc=2)\n",
    "axes[1].legend(loc=2)\n",
    "\n",
    "plt.show()"
   ]
  },
  {
   "cell_type": "code",
   "execution_count": null,
   "metadata": {},
   "outputs": [],
   "source": []
  }
 ],
 "metadata": {
  "kernelspec": {
   "display_name": "Python 3",
   "language": "python",
   "name": "python3"
  },
  "language_info": {
   "codemirror_mode": {
    "name": "ipython",
    "version": 3
   },
   "file_extension": ".py",
   "mimetype": "text/x-python",
   "name": "python",
   "nbconvert_exporter": "python",
   "pygments_lexer": "ipython3",
   "version": "3.7.3"
  }
 },
 "nbformat": 4,
 "nbformat_minor": 2
}
